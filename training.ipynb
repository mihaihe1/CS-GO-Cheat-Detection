{
  "cells": [
    {
      "cell_type": "markdown",
      "metadata": {
        "id": "Ik4PI6hs5fxB"
      },
      "source": [
        "# Licență Hernest Mihai\n",
        "Detectarea cheating-ului în jocurile video\n",
        "\n",
        "Coordonator: Ciprian-Ionuț Păduraru"
      ]
    },
    {
      "cell_type": "markdown",
      "source": [
        "**Instalare go și librăria awpy**"
      ],
      "metadata": {
        "id": "8XHGi6BE5f7f"
      }
    },
    {
      "cell_type": "code",
      "execution_count": 1,
      "metadata": {
        "colab": {
          "base_uri": "https://localhost:8080/"
        },
        "id": "WeKqfFet03GZ",
        "outputId": "ba5a8782-52a0-436a-8fe1-b3d261db21b5"
      },
      "outputs": [
        {
          "output_type": "stream",
          "name": "stdout",
          "text": [
            "\r0% [Working]\r            \rGet:1 https://developer.download.nvidia.com/compute/cuda/repos/ubuntu1804/x86_64  InRelease [1,581 B]\n",
            "\r0% [Connecting to archive.ubuntu.com] [Connecting to security.ubuntu.com (185.1\r0% [Connecting to archive.ubuntu.com] [Connecting to security.ubuntu.com (185.1\r0% [1 InRelease gpgv 1,581 B] [Connecting to archive.ubuntu.com] [Connecting to\r                                                                               \rGet:2 https://cloud.r-project.org/bin/linux/ubuntu bionic-cran40/ InRelease [3,626 B]\n",
            "\r0% [1 InRelease gpgv 1,581 B] [Connecting to archive.ubuntu.com] [Connecting to\r0% [1 InRelease gpgv 1,581 B] [Connecting to archive.ubuntu.com] [Connecting to\r                                                                               \rIgn:3 https://developer.download.nvidia.com/compute/machine-learning/repos/ubuntu1804/x86_64  InRelease\n",
            "Hit:4 https://developer.download.nvidia.com/compute/machine-learning/repos/ubuntu1804/x86_64  Release\n",
            "Get:5 https://developer.download.nvidia.com/compute/cuda/repos/ubuntu1804/x86_64  Packages [806 kB]\n",
            "Get:6 http://security.ubuntu.com/ubuntu bionic-security InRelease [88.7 kB]\n",
            "Get:7 http://ppa.launchpad.net/c2d4u.team/c2d4u4.0+/ubuntu bionic InRelease [15.9 kB]\n",
            "Hit:8 http://archive.ubuntu.com/ubuntu bionic InRelease\n",
            "Get:9 http://archive.ubuntu.com/ubuntu bionic-updates InRelease [88.7 kB]\n",
            "Hit:10 http://ppa.launchpad.net/cran/libgit2/ubuntu bionic InRelease\n",
            "Get:11 http://ppa.launchpad.net/deadsnakes/ppa/ubuntu bionic InRelease [15.9 kB]\n",
            "Get:12 http://archive.ubuntu.com/ubuntu bionic-backports InRelease [74.6 kB]\n",
            "Get:13 http://ppa.launchpad.net/graphics-drivers/ppa/ubuntu bionic InRelease [21.3 kB]\n",
            "Get:15 http://ppa.launchpad.net/longsleep/golang-backports/ubuntu bionic InRelease [15.4 kB]\n",
            "Get:16 http://ppa.launchpad.net/c2d4u.team/c2d4u4.0+/ubuntu bionic/main Sources [1,992 kB]\n",
            "Get:17 http://security.ubuntu.com/ubuntu bionic-security/restricted amd64 Packages [982 kB]\n",
            "Get:18 http://security.ubuntu.com/ubuntu bionic-security/universe amd64 Packages [1,515 kB]\n",
            "Get:19 http://ppa.launchpad.net/c2d4u.team/c2d4u4.0+/ubuntu bionic/main amd64 Packages [1,021 kB]\n",
            "Get:20 http://archive.ubuntu.com/ubuntu bionic-updates/main amd64 Packages [3,262 kB]\n",
            "Get:21 http://security.ubuntu.com/ubuntu bionic-security/main amd64 Packages [2,830 kB]\n",
            "Get:22 http://archive.ubuntu.com/ubuntu bionic-updates/restricted amd64 Packages [1,015 kB]\n",
            "Get:23 http://archive.ubuntu.com/ubuntu bionic-updates/universe amd64 Packages [2,290 kB]\n",
            "Get:24 http://ppa.launchpad.net/deadsnakes/ppa/ubuntu bionic/main amd64 Packages [45.3 kB]\n",
            "Get:25 http://ppa.launchpad.net/graphics-drivers/ppa/ubuntu bionic/main amd64 Packages [47.7 kB]\n",
            "Get:26 http://ppa.launchpad.net/longsleep/golang-backports/ubuntu bionic/main amd64 Packages [7,218 B]\n",
            "Fetched 16.1 MB in 7s (2,415 kB/s)\n",
            "Reading package lists... Done\n",
            "Hit:1 https://cloud.r-project.org/bin/linux/ubuntu bionic-cran40/ InRelease\n",
            "Hit:2 https://developer.download.nvidia.com/compute/cuda/repos/ubuntu1804/x86_64  InRelease\n",
            "Ign:3 https://developer.download.nvidia.com/compute/machine-learning/repos/ubuntu1804/x86_64  InRelease\n",
            "Hit:4 http://security.ubuntu.com/ubuntu bionic-security InRelease\n",
            "Hit:5 https://developer.download.nvidia.com/compute/machine-learning/repos/ubuntu1804/x86_64  Release\n",
            "Hit:6 http://ppa.launchpad.net/c2d4u.team/c2d4u4.0+/ubuntu bionic InRelease\n",
            "Hit:7 http://archive.ubuntu.com/ubuntu bionic InRelease\n",
            "Hit:8 http://archive.ubuntu.com/ubuntu bionic-updates InRelease\n",
            "Hit:9 http://ppa.launchpad.net/cran/libgit2/ubuntu bionic InRelease\n",
            "Hit:10 http://archive.ubuntu.com/ubuntu bionic-backports InRelease\n",
            "Hit:11 http://ppa.launchpad.net/deadsnakes/ppa/ubuntu bionic InRelease\n",
            "Hit:12 http://ppa.launchpad.net/graphics-drivers/ppa/ubuntu bionic InRelease\n",
            "Hit:14 http://ppa.launchpad.net/longsleep/golang-backports/ubuntu bionic InRelease\n",
            "Reading package lists... Done\n",
            "Building dependency tree       \n",
            "Reading state information... Done\n",
            "87 packages can be upgraded. Run 'apt list --upgradable' to see them.\n",
            "Reading package lists... Done\n",
            "Building dependency tree       \n",
            "Reading state information... Done\n",
            "The following package was automatically installed and is no longer required:\n",
            "  libnvidia-common-460\n",
            "Use 'apt autoremove' to remove it.\n",
            "The following additional packages will be installed:\n",
            "  golang-1.18-go golang-1.18-src golang-src\n",
            "Suggested packages:\n",
            "  bzr | brz mercurial subversion\n",
            "The following NEW packages will be installed:\n",
            "  golang-1.18-go golang-1.18-src golang-go golang-src\n",
            "0 upgraded, 4 newly installed, 0 to remove and 87 not upgraded.\n",
            "Need to get 76.4 MB of archives.\n",
            "After this operation, 436 MB of additional disk space will be used.\n",
            "Get:1 http://ppa.launchpad.net/longsleep/golang-backports/ubuntu bionic/main amd64 golang-1.18-src all 1.18.3-1longsleep1+focal [15.6 MB]\n",
            "Get:2 http://ppa.launchpad.net/longsleep/golang-backports/ubuntu bionic/main amd64 golang-1.18-go amd64 1.18.3-1longsleep1+focal [60.8 MB]\n",
            "Get:3 http://ppa.launchpad.net/longsleep/golang-backports/ubuntu bionic/main amd64 golang-src amd64 2:1.18~1longsleep1 [5,080 B]\n",
            "Get:4 http://ppa.launchpad.net/longsleep/golang-backports/ubuntu bionic/main amd64 golang-go amd64 2:1.18~1longsleep1 [24.1 kB]\n",
            "Fetched 76.4 MB in 7s (10.3 MB/s)\n",
            "Selecting previously unselected package golang-1.18-src.\n",
            "(Reading database ... 155632 files and directories currently installed.)\n",
            "Preparing to unpack .../golang-1.18-src_1.18.3-1longsleep1+focal_all.deb ...\n",
            "Unpacking golang-1.18-src (1.18.3-1longsleep1+focal) ...\n",
            "Selecting previously unselected package golang-1.18-go.\n",
            "Preparing to unpack .../golang-1.18-go_1.18.3-1longsleep1+focal_amd64.deb ...\n",
            "Unpacking golang-1.18-go (1.18.3-1longsleep1+focal) ...\n",
            "Selecting previously unselected package golang-src:amd64.\n",
            "Preparing to unpack .../golang-src_2%3a1.18~1longsleep1_amd64.deb ...\n",
            "Unpacking golang-src:amd64 (2:1.18~1longsleep1) ...\n",
            "Selecting previously unselected package golang-go.\n",
            "Preparing to unpack .../golang-go_2%3a1.18~1longsleep1_amd64.deb ...\n",
            "Unpacking golang-go (2:1.18~1longsleep1) ...\n",
            "Setting up golang-1.18-src (1.18.3-1longsleep1+focal) ...\n",
            "Setting up golang-1.18-go (1.18.3-1longsleep1+focal) ...\n",
            "Setting up golang-src:amd64 (2:1.18~1longsleep1) ...\n",
            "Setting up golang-go (2:1.18~1longsleep1) ...\n",
            "Processing triggers for man-db (2.8.3-2ubuntu0.1) ...\n",
            "Looking in indexes: https://pypi.org/simple, https://us-python.pkg.dev/colab-wheels/public/simple/\n",
            "Collecting awpy\n",
            "  Downloading awpy-1.1.6.tar.gz (10.1 MB)\n",
            "\u001b[K     |████████████████████████████████| 10.1 MB 6.6 MB/s \n",
            "\u001b[?25hRequirement already satisfied: pandas>=0.25.3 in /usr/local/lib/python3.7/dist-packages (from awpy) (1.3.5)\n",
            "Requirement already satisfied: numpy>=1.18.1 in /usr/local/lib/python3.7/dist-packages (from awpy) (1.21.6)\n",
            "Requirement already satisfied: scipy>=1.4.1 in /usr/local/lib/python3.7/dist-packages (from awpy) (1.4.1)\n",
            "Requirement already satisfied: matplotlib>=3.1.2 in /usr/local/lib/python3.7/dist-packages (from awpy) (3.2.2)\n",
            "Requirement already satisfied: networkx>=2.6.3 in /usr/local/lib/python3.7/dist-packages (from awpy) (2.6.3)\n",
            "Collecting textdistance>=4.2.0\n",
            "  Downloading textdistance-4.2.2-py3-none-any.whl (28 kB)\n",
            "Collecting imageio>=2.9.0\n",
            "  Downloading imageio-2.19.3-py3-none-any.whl (3.4 MB)\n",
            "\u001b[K     |████████████████████████████████| 3.4 MB 49.2 MB/s \n",
            "\u001b[?25hRequirement already satisfied: tqdm>=4.55.2 in /usr/local/lib/python3.7/dist-packages (from awpy) (4.64.0)\n",
            "Collecting pillow>=8.3.2\n",
            "  Downloading Pillow-9.1.1-cp37-cp37m-manylinux_2_17_x86_64.manylinux2014_x86_64.whl (3.1 MB)\n",
            "\u001b[K     |████████████████████████████████| 3.1 MB 53.6 MB/s \n",
            "\u001b[?25hRequirement already satisfied: cycler>=0.10 in /usr/local/lib/python3.7/dist-packages (from matplotlib>=3.1.2->awpy) (0.11.0)\n",
            "Requirement already satisfied: pyparsing!=2.0.4,!=2.1.2,!=2.1.6,>=2.0.1 in /usr/local/lib/python3.7/dist-packages (from matplotlib>=3.1.2->awpy) (3.0.9)\n",
            "Requirement already satisfied: kiwisolver>=1.0.1 in /usr/local/lib/python3.7/dist-packages (from matplotlib>=3.1.2->awpy) (1.4.2)\n",
            "Requirement already satisfied: python-dateutil>=2.1 in /usr/local/lib/python3.7/dist-packages (from matplotlib>=3.1.2->awpy) (2.8.2)\n",
            "Requirement already satisfied: typing-extensions in /usr/local/lib/python3.7/dist-packages (from kiwisolver>=1.0.1->matplotlib>=3.1.2->awpy) (4.2.0)\n",
            "Requirement already satisfied: pytz>=2017.3 in /usr/local/lib/python3.7/dist-packages (from pandas>=0.25.3->awpy) (2022.1)\n",
            "Requirement already satisfied: six>=1.5 in /usr/local/lib/python3.7/dist-packages (from python-dateutil>=2.1->matplotlib>=3.1.2->awpy) (1.15.0)\n",
            "Building wheels for collected packages: awpy\n",
            "  Building wheel for awpy (setup.py) ... \u001b[?25l\u001b[?25hdone\n",
            "  Created wheel for awpy: filename=awpy-1.1.6-py3-none-any.whl size=10064813 sha256=f35eb847b8e0a7368871b746c1bfb44250294f118ca77982e1327ccfa85df4eb\n",
            "  Stored in directory: /root/.cache/pip/wheels/87/6a/06/1ba125b559928ed37509c3ab8400b02f538f3bc4c582f78b0f\n",
            "Successfully built awpy\n",
            "Installing collected packages: pillow, textdistance, imageio, awpy\n",
            "  Attempting uninstall: pillow\n",
            "    Found existing installation: Pillow 7.1.2\n",
            "    Uninstalling Pillow-7.1.2:\n",
            "      Successfully uninstalled Pillow-7.1.2\n",
            "  Attempting uninstall: imageio\n",
            "    Found existing installation: imageio 2.4.1\n",
            "    Uninstalling imageio-2.4.1:\n",
            "      Successfully uninstalled imageio-2.4.1\n",
            "\u001b[31mERROR: pip's dependency resolver does not currently take into account all the packages that are installed. This behaviour is the source of the following dependency conflicts.\n",
            "albumentations 0.1.12 requires imgaug<0.2.7,>=0.2.5, but you have imgaug 0.2.9 which is incompatible.\u001b[0m\n",
            "Successfully installed awpy-1.1.6 imageio-2.19.3 pillow-9.1.1 textdistance-4.2.2\n"
          ]
        },
        {
          "output_type": "execute_result",
          "data": {
            "text/plain": [
              ""
            ]
          },
          "metadata": {},
          "execution_count": 1
        }
      ],
      "source": [
        "%%shell\n",
        "add-apt-repository -y ppa:longsleep/golang-backports\n",
        "apt -y update\n",
        "apt -y install golang-go\n",
        "\n",
        "pip install awpy"
      ]
    },
    {
      "cell_type": "markdown",
      "source": [
        "# Extragerea caracteristicilor din inregistrari"
      ],
      "metadata": {
        "id": "qdlcDYJkhyEX"
      }
    },
    {
      "cell_type": "code",
      "execution_count": 2,
      "metadata": {
        "id": "rClKxvjQKaBv",
        "colab": {
          "base_uri": "https://localhost:8080/"
        },
        "outputId": "c7f1ee19-d5ab-457a-d74c-5edb3bf682da"
      },
      "outputs": [
        {
          "output_type": "stream",
          "name": "stdout",
          "text": [
            "Mounted at /content/drive/\n"
          ]
        }
      ],
      "source": [
        "from google.colab import drive\n",
        "drive.mount('/content/drive/')"
      ]
    },
    {
      "cell_type": "code",
      "execution_count": 4,
      "metadata": {
        "id": "0IA9PGqt_7K7"
      },
      "outputs": [],
      "source": [
        "#inregistrarile au fost salvate pe drive pentru o usoara accesare din mediul google colab\n",
        "import os\n",
        "\n",
        "demo_folder_cheating = \"/content/drive/MyDrive/Licenta/demos/cheating/\"\n",
        "\n",
        "demo_folder_clean = \"/content/drive/MyDrive/Licenta/demos/non-cheating/\"\n",
        "\n",
        "demo_list_cheating = os.listdir(demo_folder_cheating)\n",
        "demo_list_clean = os.listdir(demo_folder_clean)"
      ]
    },
    {
      "cell_type": "code",
      "execution_count": 8,
      "metadata": {
        "colab": {
          "base_uri": "https://localhost:8080/"
        },
        "id": "MaEH9JUuKaFO",
        "outputId": "99dea7a1-d3bb-425e-a0b8-733194285490"
      },
      "outputs": [
        {
          "output_type": "execute_result",
          "data": {
            "text/plain": [
              "['aim1.dem',\n",
              " 'aim2.dem',\n",
              " 'aim3.dem',\n",
              " 'aim4.dem',\n",
              " 'aim5.dem',\n",
              " 'aim6.dem',\n",
              " 'aim7.dem',\n",
              " 'aim8.dem',\n",
              " 'aim9.dem',\n",
              " 'aim10.dem',\n",
              " 'aim11.dem',\n",
              " 'aim12.dem',\n",
              " 'aim13.dem',\n",
              " 'aim14.dem',\n",
              " 'aim15.dem']"
            ]
          },
          "metadata": {},
          "execution_count": 8
        }
      ],
      "source": [
        "demo_list_cheating"
      ]
    },
    {
      "cell_type": "code",
      "source": [
        "demo_list_clean"
      ],
      "metadata": {
        "id": "4qVeGkGAXdVt",
        "outputId": "89599903-fcac-4137-a241-bfb912e0e4f3",
        "colab": {
          "base_uri": "https://localhost:8080/"
        }
      },
      "execution_count": 9,
      "outputs": [
        {
          "output_type": "execute_result",
          "data": {
            "text/plain": [
              "['clean5.dem',\n",
              " 'clean6.dem',\n",
              " 'clean7.dem',\n",
              " 'clean1.dem',\n",
              " 'clean2.dem',\n",
              " 'clean3.dem',\n",
              " 'clean4.dem',\n",
              " 'clean8.dem',\n",
              " 'clean9.dem',\n",
              " 'clean10.dem',\n",
              " 'clean11.dem',\n",
              " 'clean12.dem',\n",
              " 'clean13.dem',\n",
              " 'clean14.dem',\n",
              " 'clean15.dem']"
            ]
          },
          "metadata": {},
          "execution_count": 9
        }
      ]
    },
    {
      "cell_type": "code",
      "source": [
        "# extragerea echipei in care se afla jucatorul cu numele player_name la frame-ul curent\n",
        "def get_team_from_round(frame, player_name):\n",
        "  if frame['ct']['players'] is not None:\n",
        "    ct_players = [i['name'] for i in frame['ct']['players']]\n",
        "    if player_name in ct_players:\n",
        "      return 'ct'\n",
        "  \n",
        "  if frame['t']['players'] is not None:\n",
        "    t_players = [i['name'] for i in frame['t']['players']]\n",
        "    if player_name in t_players:\n",
        "      return 't'\n",
        "\n",
        "  return 'err'"
      ],
      "metadata": {
        "id": "vYgQEO5gVFTU"
      },
      "execution_count": 10,
      "outputs": []
    },
    {
      "cell_type": "code",
      "source": [
        "from awpy.parser import DemoParser\n",
        "import numpy as np"
      ],
      "metadata": {
        "id": "w4xKAbECXjBU"
      },
      "execution_count": 11,
      "outputs": []
    },
    {
      "cell_type": "code",
      "execution_count": 12,
      "metadata": {
        "id": "TQ4MaRsD08zm"
      },
      "outputs": [],
      "source": [
        "def features_list_extraction(demo_folder, demo_list, player_name):\n",
        "  features_list = []\n",
        "  for demo in demo_list:\n",
        "    p = DemoParser(demofile=demo_folder + demo, parse_rate=1)\n",
        "    d = p.parse()\n",
        "    print(demo)\n",
        "    # player_name = 'psmihai917'\n",
        "\n",
        "    nr_rounds = len(d['gameRounds'])\n",
        "    for i in range(nr_rounds):\n",
        "      list_from_round = []\n",
        "      first_round_frame = d['gameRounds'][i]['frames'][0]\n",
        "      team = get_team_from_round(first_round_frame, player_name)\n",
        "      if team == 'err':\n",
        "        continue\n",
        "\n",
        "      is_alive = True\n",
        "      for c, j in enumerate(d['gameRounds'][i]['frames']):\n",
        "        team_info = j[team]['players']\n",
        "        found = False\n",
        "        if team_info is not None:\n",
        "          for k in team_info:\n",
        "            if k['name'] == player_name:\n",
        "              list_from_round.append([k['x'], k['y'], k['z'], k['viewX'], k['viewY'], k['velocityX'],\n",
        "                                      k['velocityY'], k['velocityZ'], k['isWalking'], k['isStanding'],\n",
        "                                      k['isBlinded']])\n",
        "              found = True\n",
        "              break\n",
        "\n",
        "          if not found:\n",
        "            is_alive = False\n",
        "            break\n",
        "      list_from_round = np.asarray(list_from_round)\n",
        "      features_list.append(list_from_round)\n",
        "\n",
        "  features_list = np.asarray(features_list, dtype=object)\n",
        "\n",
        "  return features_list\n",
        "  "
      ]
    },
    {
      "cell_type": "code",
      "execution_count": 13,
      "metadata": {
        "colab": {
          "base_uri": "https://localhost:8080/"
        },
        "id": "Hcdwy4Xx470m",
        "outputId": "a77b789d-a979-46a8-b981-9c10c4a03f99"
      },
      "outputs": [
        {
          "output_type": "stream",
          "name": "stdout",
          "text": [
            "aim1.dem\n",
            "aim2.dem\n",
            "aim3.dem\n",
            "aim4.dem\n",
            "aim5.dem\n",
            "aim6.dem\n",
            "aim7.dem\n",
            "aim8.dem\n",
            "aim9.dem\n",
            "aim10.dem\n",
            "aim11.dem\n",
            "aim12.dem\n",
            "aim13.dem\n",
            "aim14.dem\n",
            "aim15.dem\n",
            "clean5.dem\n",
            "clean6.dem\n",
            "clean7.dem\n",
            "clean1.dem\n",
            "clean2.dem\n",
            "clean3.dem\n",
            "clean4.dem\n",
            "clean8.dem\n",
            "clean9.dem\n",
            "clean10.dem\n",
            "clean11.dem\n",
            "clean12.dem\n",
            "clean13.dem\n",
            "clean14.dem\n",
            "clean15.dem\n"
          ]
        }
      ],
      "source": [
        "player_name = 'psmihai917'\n",
        "features_list_cheating = features_list_extraction(demo_folder_cheating, demo_list_cheating, player_name)\n",
        "features_list_clean = features_list_extraction(demo_folder_clean, demo_list_clean, player_name)"
      ]
    },
    {
      "cell_type": "code",
      "execution_count": 14,
      "metadata": {
        "colab": {
          "base_uri": "https://localhost:8080/"
        },
        "id": "dFLLCbTfa8ma",
        "outputId": "c4484131-5a56-4acf-ced4-5435374c2d31"
      },
      "outputs": [
        {
          "output_type": "execute_result",
          "data": {
            "text/plain": [
              "225"
            ]
          },
          "metadata": {},
          "execution_count": 14
        }
      ],
      "source": [
        "len(features_list_cheating)"
      ]
    },
    {
      "cell_type": "code",
      "source": [
        "len(features_list_clean)"
      ],
      "metadata": {
        "id": "-TE8lvv3ZPRc",
        "outputId": "bbc45196-dfc5-49ad-8c3c-901011d656ef",
        "colab": {
          "base_uri": "https://localhost:8080/"
        }
      },
      "execution_count": 15,
      "outputs": [
        {
          "output_type": "execute_result",
          "data": {
            "text/plain": [
              "225"
            ]
          },
          "metadata": {},
          "execution_count": 15
        }
      ]
    },
    {
      "cell_type": "code",
      "execution_count": 16,
      "metadata": {
        "colab": {
          "base_uri": "https://localhost:8080/"
        },
        "id": "1wjcUrYf1jo5",
        "outputId": "eac1de28-2b53-4c59-ead3-56d0f8af19a7"
      },
      "outputs": [
        {
          "output_type": "execute_result",
          "data": {
            "text/plain": [
              "array([-1.42359888e+03,  1.11978723e+03,  3.53351135e+01,  1.82999268e+02,\n",
              "        3.45333252e+02,  0.00000000e+00,  0.00000000e+00,  0.00000000e+00,\n",
              "        0.00000000e+00,  1.00000000e+00,  0.00000000e+00])"
            ]
          },
          "metadata": {},
          "execution_count": 16
        }
      ],
      "source": [
        "features_list_cheating[0][-1]"
      ]
    },
    {
      "cell_type": "code",
      "execution_count": 17,
      "metadata": {
        "id": "dVfzcFp38M5j"
      },
      "outputs": [],
      "source": [
        "np.save(\"data_cheating_all.npy\", features_list_cheating)\n",
        "np.save(\"data_non_cheating_all.npy\", features_list_clean)"
      ]
    },
    {
      "cell_type": "markdown",
      "source": [
        ""
      ],
      "metadata": {
        "id": "ie5lEh4-Z_1m"
      }
    },
    {
      "cell_type": "markdown",
      "source": [
        "# Antrenarea modelelor"
      ],
      "metadata": {
        "id": "qxWatSPmaBQ_"
      }
    },
    {
      "cell_type": "code",
      "execution_count": 18,
      "metadata": {
        "id": "og5UJ5688hzC"
      },
      "outputs": [],
      "source": [
        "features_list_clean = np.load(\"/content/drive/MyDrive/Licenta/numpy_arrays/data_non_cheating_all.npy\", allow_pickle=True)"
      ]
    },
    {
      "cell_type": "code",
      "execution_count": 21,
      "metadata": {
        "id": "Sr-_2tgtoP0H"
      },
      "outputs": [],
      "source": [
        "features_list_cheating = np.load(\"/content/drive/MyDrive/Licenta/numpy_arrays/data_aim_cheating_all.npy\", allow_pickle=True)"
      ]
    },
    {
      "cell_type": "code",
      "execution_count": 22,
      "metadata": {
        "colab": {
          "base_uri": "https://localhost:8080/"
        },
        "id": "jPY9_85D88e5",
        "outputId": "1ad068b5-7b81-4777-a97f-27f4fa4223c9"
      },
      "outputs": [
        {
          "output_type": "execute_result",
          "data": {
            "text/plain": [
              "225"
            ]
          },
          "metadata": {},
          "execution_count": 22
        }
      ],
      "source": [
        "len(features_list_clean)"
      ]
    },
    {
      "cell_type": "code",
      "execution_count": 23,
      "metadata": {
        "colab": {
          "base_uri": "https://localhost:8080/"
        },
        "id": "8ASQno0xFD8p",
        "outputId": "64b8f172-58d7-43c9-fb53-53f3756c01eb"
      },
      "outputs": [
        {
          "output_type": "execute_result",
          "data": {
            "text/plain": [
              "225"
            ]
          },
          "metadata": {},
          "execution_count": 23
        }
      ],
      "source": [
        "len(features_list_cheating)"
      ]
    },
    {
      "cell_type": "code",
      "execution_count": null,
      "metadata": {
        "id": "D-VrP6-ptumZ"
      },
      "outputs": [],
      "source": [
        "# train_data = []\n",
        "# train_labels = []\n",
        "# train_data.append(feature_list_cheating[:int(len(feature_list_cheating) * 0.8)])\n",
        "# train_data.append(feature_list_non_cheating[:int(len(feature_list_non_cheating) * 0.8)])\n",
        "# train_labels += [0] * int(len(feature_list_non_cheating) * 0.8)\n",
        "# train_labels += [1] * int(len(feature_list_cheating) * 0.8) \n",
        "\n",
        "# val_data = []\n",
        "# val_labels = []\n",
        "# val_data.append(feature_list_cheating[int(len(feature_list_cheating) * 0.8):])\n",
        "# val_data.append(feature_list_non_cheating[int(len(feature_list_non_cheating) * 0.8):])\n",
        "# val_labels += [0] * int(len(feature_list_cheating) * 0.2)\n",
        "# val_labels += [1] * int(len(feature_list_non_cheating) * 0.2)\n"
      ]
    },
    {
      "cell_type": "code",
      "execution_count": 24,
      "metadata": {
        "id": "uBX1D35A929J"
      },
      "outputs": [],
      "source": [
        "# train_data = feature_list_cheating[:int(len(feature_list_cheating) * 0.8)]\n",
        "train_data = features_list_clean[:int(len(features_list_clean) * 0.8)]\n",
        "train_labels = [0] * int(len(features_list_clean) * 0.8)\n",
        "\n",
        "val_data = features_list_clean[int(len(features_list_clean) * 0.8):]\n",
        "val_labels = [0] * int(len(features_list_clean) * 0.2)"
      ]
    },
    {
      "cell_type": "code",
      "execution_count": 25,
      "metadata": {
        "colab": {
          "base_uri": "https://localhost:8080/"
        },
        "id": "kc4-NBNG_2zQ",
        "outputId": "dfb43cae-0746-4adc-bb0f-d58bc6ed1152"
      },
      "outputs": [
        {
          "output_type": "execute_result",
          "data": {
            "text/plain": [
              "45"
            ]
          },
          "metadata": {},
          "execution_count": 25
        }
      ],
      "source": [
        "len(val_data)"
      ]
    },
    {
      "cell_type": "code",
      "execution_count": 26,
      "metadata": {
        "id": "wUBFwFwM-vQi"
      },
      "outputs": [],
      "source": [
        "train_data = np.append(train_data, features_list_cheating[:int(len(features_list_cheating) * 0.8)], axis=0)"
      ]
    },
    {
      "cell_type": "code",
      "execution_count": 27,
      "metadata": {
        "id": "q2TmSjHmB_CL"
      },
      "outputs": [],
      "source": [
        "train_labels_cheat = [1] * int(len(features_list_cheating) * 0.8)\n",
        "train_labels += train_labels_cheat"
      ]
    },
    {
      "cell_type": "code",
      "execution_count": 28,
      "metadata": {
        "colab": {
          "base_uri": "https://localhost:8080/"
        },
        "id": "jB5F8USGFY1F",
        "outputId": "536783e0-6522-4a7d-a16a-096c08f09b50"
      },
      "outputs": [
        {
          "output_type": "execute_result",
          "data": {
            "text/plain": [
              "360"
            ]
          },
          "metadata": {},
          "execution_count": 28
        }
      ],
      "source": [
        "len(train_labels)"
      ]
    },
    {
      "cell_type": "code",
      "execution_count": 29,
      "metadata": {
        "id": "T132wD91C14k"
      },
      "outputs": [],
      "source": [
        "val_data = np.append(val_data, features_list_cheating[int(len(features_list_cheating) * 0.8):], axis=0)"
      ]
    },
    {
      "cell_type": "code",
      "execution_count": 30,
      "metadata": {
        "id": "t7Zl9XiPC9O4"
      },
      "outputs": [],
      "source": [
        "val_labels_cheat = [1] * int(len(features_list_cheating) * 0.2)\n",
        "val_labels += val_labels_cheat"
      ]
    },
    {
      "cell_type": "code",
      "execution_count": 31,
      "metadata": {
        "colab": {
          "base_uri": "https://localhost:8080/"
        },
        "id": "bb7ZhABuuhvV",
        "outputId": "ef88cb98-012e-423c-e681-63bb12a0d280"
      },
      "outputs": [
        {
          "output_type": "execute_result",
          "data": {
            "text/plain": [
              "90"
            ]
          },
          "metadata": {},
          "execution_count": 31
        }
      ],
      "source": [
        "len(val_data)"
      ]
    },
    {
      "cell_type": "code",
      "execution_count": 32,
      "metadata": {
        "id": "NKxWAvofvCxi"
      },
      "outputs": [],
      "source": [
        "from torch.utils.data import Dataset, DataLoader\n",
        "import torch"
      ]
    },
    {
      "cell_type": "code",
      "execution_count": 33,
      "metadata": {
        "id": "tctjO4YKvFqk"
      },
      "outputs": [],
      "source": [
        "class DemoDataset(Dataset):\n",
        "  def __init__(self, feature_list, labels):\n",
        "    self.feature_list_tensor = []\n",
        "    for features in feature_list:\n",
        "      self.feature_list_tensor.append(torch.from_numpy(features))\n",
        "\n",
        "    self.labels = torch.tensor(labels, dtype=torch.int64)\n",
        "\n",
        "  def __getitem__(self, index):\n",
        "    return (self.feature_list_tensor[index], self.labels[index])\n",
        "\n",
        "  def __len__(self):\n",
        "    return len(self.labels)"
      ]
    },
    {
      "cell_type": "code",
      "execution_count": 51,
      "metadata": {
        "id": "sIwVihsmwSA4"
      },
      "outputs": [],
      "source": [
        "train_dataset = DemoDataset(train_data, train_labels)\n",
        "val_dataset = DemoDataset(val_data, val_labels)\n",
        "train_dataloader = DataLoader(\n",
        "    dataset=train_dataset, \n",
        "    batch_size=1,\n",
        "    shuffle=True\n",
        ")\n",
        "val_dataloader = DataLoader(\n",
        "    val_dataset,\n",
        "    batch_size=1 #\n",
        ")"
      ]
    },
    {
      "cell_type": "code",
      "execution_count": 35,
      "metadata": {
        "colab": {
          "base_uri": "https://localhost:8080/"
        },
        "id": "Dx8UDpYmwbxp",
        "outputId": "42c5f25b-6623-45c2-c2d5-561c8e7f6763"
      },
      "outputs": [
        {
          "output_type": "stream",
          "name": "stdout",
          "text": [
            "torch.Size([1, 2801, 11])\n",
            "----------\n",
            "tensor([1])\n"
          ]
        }
      ],
      "source": [
        "for b, l in train_dataloader:\n",
        "  print(b.shape)\n",
        "  print(\"----------\")\n",
        "  print(l)\n",
        "  break"
      ]
    },
    {
      "cell_type": "code",
      "execution_count": 36,
      "metadata": {
        "id": "BvKy0J6N4W7d"
      },
      "outputs": [],
      "source": [
        "import torch.nn as nn"
      ]
    },
    {
      "cell_type": "code",
      "execution_count": 64,
      "metadata": {
        "colab": {
          "base_uri": "https://localhost:8080/"
        },
        "id": "E6w_I1zk4Y70",
        "outputId": "34d3c186-75a7-41f3-8137-422287fda184"
      },
      "outputs": [
        {
          "output_type": "execute_result",
          "data": {
            "text/plain": [
              "RNNModel(\n",
              "  (rnn): RNN(11, 400, batch_first=True)\n",
              "  (output_layer): Linear(in_features=400, out_features=2, bias=True)\n",
              ")"
            ]
          },
          "metadata": {},
          "execution_count": 64
        }
      ],
      "source": [
        "HIDDEN_SIZE=400\n",
        "LR=1e-4\n",
        "\n",
        "class RNNModel(nn.Module):\n",
        "    def __init__(self, \n",
        "                 device,\n",
        "                 input_size: int, \n",
        "                 hidden_size: int, \n",
        "                 output_size: int):\n",
        "        super().__init__()\n",
        "        self.input_size = input_size\n",
        "        self.hidden_size = hidden_size\n",
        "        self.output_size = output_size\n",
        "        self.device = device\n",
        "\n",
        "        self.rnn = nn.RNN(\n",
        "              input_size=input_size, \n",
        "              hidden_size=hidden_size, \n",
        "              nonlinearity='tanh',\n",
        "              batch_first=True\n",
        "        )\n",
        "        \n",
        "        self.output_layer = nn.Linear(\n",
        "            in_features=hidden_size, \n",
        "            out_features=output_size\n",
        "        )\n",
        "    \n",
        "    def forward(self, x):\n",
        "        h = torch.zeros(1, 1, self.hidden_size, device=self.device)\n",
        "        rnn_output, h_n = self.rnn(x, h)\n",
        "        output_scores = self.output_layer(h_n[0])\n",
        "\n",
        "        return output_scores\n",
        "\n",
        "device = torch.device('cuda' if torch.cuda.is_available() else 'cpu')\n",
        "model = RNNModel(\n",
        "    device,\n",
        "    input_size=11,\n",
        "    hidden_size=HIDDEN_SIZE,\n",
        "    output_size=2\n",
        ")\n",
        "model.to(device)"
      ]
    },
    {
      "cell_type": "code",
      "source": [
        "HIDDEN_SIZE=400\n",
        "LR=1e-4\n",
        "\n",
        "class GRUModel(nn.Module):\n",
        "    def __init__(self, \n",
        "                 device,\n",
        "                 input_size: int, \n",
        "                 hidden_size: int, \n",
        "                 output_size: int):\n",
        "        super().__init__()\n",
        "        self.input_size = input_size\n",
        "        self.hidden_size = hidden_size\n",
        "        self.output_size = output_size\n",
        "        self.device = device\n",
        "\n",
        "        self.gru = nn.GRU(\n",
        "              input_size=input_size, \n",
        "              hidden_size=hidden_size,\n",
        "              dropout=0.2,\n",
        "              batch_first=True\n",
        "        )\n",
        "        self.output_layer = nn.Linear(\n",
        "            in_features=hidden_size, \n",
        "            out_features=output_size\n",
        "        )\n",
        "    \n",
        "    def forward(self, x):\n",
        "        h = torch.zeros(1, 1, self.hidden_size, device=self.device)\n",
        "        gru_output, h_n = self.gru(x, h)\n",
        "        output_scores = self.output_layer(h_n[0])\n",
        "\n",
        "        return output_scores\n",
        "\n",
        "device = torch.device('cuda' if torch.cuda.is_available() else 'cpu')\n",
        "model = GRUModel(\n",
        "    device,\n",
        "    input_size=11,\n",
        "    hidden_size=HIDDEN_SIZE,\n",
        "    output_size=2\n",
        ")\n",
        "model.to(device)"
      ],
      "metadata": {
        "id": "-jVM_t9lc1NB",
        "outputId": "232d8daa-faa9-4660-89d4-0f791ce6678a",
        "colab": {
          "base_uri": "https://localhost:8080/"
        }
      },
      "execution_count": 65,
      "outputs": [
        {
          "output_type": "stream",
          "name": "stderr",
          "text": [
            "/usr/local/lib/python3.7/dist-packages/torch/nn/modules/rnn.py:65: UserWarning: dropout option adds dropout after all but last recurrent layer, so non-zero dropout expects num_layers greater than 1, but got dropout=0.2 and num_layers=1\n",
            "  \"num_layers={}\".format(dropout, num_layers))\n"
          ]
        },
        {
          "output_type": "execute_result",
          "data": {
            "text/plain": [
              "GRUModel(\n",
              "  (gru): GRU(11, 400, batch_first=True, dropout=0.2)\n",
              "  (output_layer): Linear(in_features=400, out_features=2, bias=True)\n",
              ")"
            ]
          },
          "metadata": {},
          "execution_count": 65
        }
      ]
    },
    {
      "cell_type": "code",
      "execution_count": 66,
      "metadata": {
        "colab": {
          "base_uri": "https://localhost:8080/"
        },
        "id": "-mzW0S679RDV",
        "outputId": "5a8eb28a-55d2-400e-e19b-66ade3c67af0"
      },
      "outputs": [
        {
          "output_type": "execute_result",
          "data": {
            "text/plain": [
              "LSTMModel(\n",
              "  (lstm): LSTM(11, 300, batch_first=True)\n",
              "  (dropout): Dropout(p=0.3, inplace=False)\n",
              "  (output_layer): Linear(in_features=300, out_features=2, bias=True)\n",
              ")"
            ]
          },
          "metadata": {},
          "execution_count": 66
        }
      ],
      "source": [
        "HIDDEN_SIZE=300\n",
        "LR=1e-4\n",
        "\n",
        "class LSTMModel(nn.Module):\n",
        "    def __init__(self, \n",
        "                 device,\n",
        "                 input_size: int, \n",
        "                 hidden_size: int, \n",
        "                 output_size: int):\n",
        "        super().__init__()\n",
        "        self.input_size = input_size\n",
        "        self.hidden_size = hidden_size\n",
        "        self.output_size = output_size\n",
        "        self.device = device\n",
        "\n",
        "        self.lstm = nn.LSTM(\n",
        "              input_size=input_size, \n",
        "              hidden_size=hidden_size,\n",
        "              batch_first=True\n",
        "        )\n",
        "\n",
        "        self.dropout = nn.Dropout(p=0.3)\n",
        "\n",
        "        self.output_layer = nn.Linear(\n",
        "            in_features=hidden_size, \n",
        "            out_features=output_size\n",
        "        )\n",
        "    \n",
        "    def forward(self, x):\n",
        "        h = torch.zeros(1, 1, self.hidden_size, device=self.device)\n",
        "        cell = torch.zeros(1, 1, self.hidden_size, device=self.device)\n",
        "        lstm_output, h_n = self.lstm(x, (h, cell))\n",
        "        h_n = self.dropout(h_n[0])\n",
        "        output_scores = self.output_layer(h_n)\n",
        "\n",
        "        return output_scores\n",
        "\n",
        "device = torch.device('cuda' if torch.cuda.is_available() else 'cpu')\n",
        "model = LSTMModel(\n",
        "    device,\n",
        "    input_size=11,\n",
        "    hidden_size=HIDDEN_SIZE,\n",
        "    output_size=2\n",
        ")\n",
        "model.to(device)"
      ]
    },
    {
      "cell_type": "code",
      "execution_count": 38,
      "metadata": {
        "colab": {
          "base_uri": "https://localhost:8080/"
        },
        "id": "JyrI3_5np60L",
        "outputId": "0e51b133-e56e-48b4-a90a-cfb1a2fbb506"
      },
      "outputs": [
        {
          "output_type": "execute_result",
          "data": {
            "text/plain": [
              "device(type='cuda')"
            ]
          },
          "metadata": {},
          "execution_count": 38
        }
      ],
      "source": [
        "device"
      ]
    },
    {
      "cell_type": "code",
      "execution_count": 57,
      "metadata": {
        "colab": {
          "base_uri": "https://localhost:8080/",
          "height": 1000
        },
        "id": "tGa7Rn494ajm",
        "outputId": "1d4ed9aa-4d12-413e-d8ac-536aad31beec"
      },
      "outputs": [
        {
          "output_type": "stream",
          "name": "stdout",
          "text": [
            "Epoch: 1\n",
            "Train Acc: 0.6666666666666666\n",
            "Train Loss: 0.6106021244078874\n",
            "Val Acc: 0.7222222222222222\n",
            "Val Loss: 0.5440428487128681\n",
            "---------------\n",
            "Epoch: 2\n",
            "Train Acc: 0.8583333333333333\n",
            "Train Loss: 0.44637096724990344\n",
            "Val Acc: 0.8666666666666667\n",
            "Val Loss: 0.4846879122571813\n",
            "---------------\n",
            "Epoch: 3\n",
            "Train Acc: 0.9055555555555556\n",
            "Train Loss: 0.3690467999937634\n",
            "Val Acc: 0.7777777777777778\n",
            "Val Loss: 0.43291113931271763\n",
            "---------------\n",
            "Epoch: 4\n",
            "Train Acc: 0.9361111111111111\n",
            "Train Loss: 0.3111410973852293\n",
            "Val Acc: 0.8444444444444444\n",
            "Val Loss: 0.4045419173936049\n",
            "---------------\n",
            "Epoch: 5\n",
            "Train Acc: 0.9472222222222222\n",
            "Train Loss: 0.26917840905435797\n",
            "Val Acc: 0.8333333333333334\n",
            "Val Loss: 0.3608617345492045\n",
            "---------------\n",
            "Epoch: 6\n",
            "Train Acc: 0.9472222222222222\n",
            "Train Loss: 0.2304864236076052\n",
            "Val Acc: 0.9222222222222223\n",
            "Val Loss: 0.3420517197189232\n",
            "---------------\n",
            "Epoch: 7\n",
            "Train Acc: 0.9638888888888889\n",
            "Train Loss: 0.20429461899911985\n",
            "Val Acc: 0.8555555555555555\n",
            "Val Loss: 0.3141702883462939\n",
            "---------------\n",
            "Epoch: 8\n",
            "Train Acc: 0.9666666666666667\n",
            "Train Loss: 0.17717043548408482\n",
            "Val Acc: 0.9333333333333333\n",
            "Val Loss: 0.2966826560234444\n",
            "---------------\n",
            "Epoch: 9\n",
            "Train Acc: 0.9722222222222222\n",
            "Train Loss: 0.15684746209105166\n",
            "Val Acc: 0.9444444444444444\n",
            "Val Loss: 0.2724277509997288\n",
            "---------------\n",
            "Epoch: 10\n",
            "Train Acc: 0.9833333333333333\n",
            "Train Loss: 0.134911125468918\n",
            "Val Acc: 0.9333333333333333\n",
            "Val Loss: 0.26435151169490484\n",
            "---------------\n"
          ]
        },
        {
          "output_type": "error",
          "ename": "KeyboardInterrupt",
          "evalue": "ignored",
          "traceback": [
            "\u001b[0;31m---------------------------------------------------------------------------\u001b[0m",
            "\u001b[0;31mKeyboardInterrupt\u001b[0m                         Traceback (most recent call last)",
            "\u001b[0;32m<ipython-input-57-b7ea4b292534>\u001b[0m in \u001b[0;36m<module>\u001b[0;34m()\u001b[0m\n\u001b[1;32m     21\u001b[0m     \u001b[0;31m# print(l)\u001b[0m\u001b[0;34m\u001b[0m\u001b[0;34m\u001b[0m\u001b[0;34m\u001b[0m\u001b[0m\n\u001b[1;32m     22\u001b[0m     \u001b[0mloss_score\u001b[0m \u001b[0;34m=\u001b[0m \u001b[0mloss\u001b[0m\u001b[0;34m(\u001b[0m\u001b[0mscores\u001b[0m\u001b[0;34m,\u001b[0m \u001b[0ml\u001b[0m\u001b[0;34m)\u001b[0m\u001b[0;34m\u001b[0m\u001b[0;34m\u001b[0m\u001b[0m\n\u001b[0;32m---> 23\u001b[0;31m     \u001b[0mloss_score\u001b[0m\u001b[0;34m.\u001b[0m\u001b[0mbackward\u001b[0m\u001b[0;34m(\u001b[0m\u001b[0;34m)\u001b[0m\u001b[0;34m\u001b[0m\u001b[0;34m\u001b[0m\u001b[0m\n\u001b[0m\u001b[1;32m     24\u001b[0m     \u001b[0mloss_epoch\u001b[0m \u001b[0;34m+=\u001b[0m \u001b[0mloss_score\u001b[0m\u001b[0;34m.\u001b[0m\u001b[0mitem\u001b[0m\u001b[0;34m(\u001b[0m\u001b[0;34m)\u001b[0m\u001b[0;34m\u001b[0m\u001b[0;34m\u001b[0m\u001b[0m\n\u001b[1;32m     25\u001b[0m     \u001b[0mcnt1\u001b[0m \u001b[0;34m+=\u001b[0m \u001b[0;36m1\u001b[0m\u001b[0;34m\u001b[0m\u001b[0;34m\u001b[0m\u001b[0m\n",
            "\u001b[0;32m/usr/local/lib/python3.7/dist-packages/torch/_tensor.py\u001b[0m in \u001b[0;36mbackward\u001b[0;34m(self, gradient, retain_graph, create_graph, inputs)\u001b[0m\n\u001b[1;32m    361\u001b[0m                 \u001b[0mcreate_graph\u001b[0m\u001b[0;34m=\u001b[0m\u001b[0mcreate_graph\u001b[0m\u001b[0;34m,\u001b[0m\u001b[0;34m\u001b[0m\u001b[0;34m\u001b[0m\u001b[0m\n\u001b[1;32m    362\u001b[0m                 inputs=inputs)\n\u001b[0;32m--> 363\u001b[0;31m         \u001b[0mtorch\u001b[0m\u001b[0;34m.\u001b[0m\u001b[0mautograd\u001b[0m\u001b[0;34m.\u001b[0m\u001b[0mbackward\u001b[0m\u001b[0;34m(\u001b[0m\u001b[0mself\u001b[0m\u001b[0;34m,\u001b[0m \u001b[0mgradient\u001b[0m\u001b[0;34m,\u001b[0m \u001b[0mretain_graph\u001b[0m\u001b[0;34m,\u001b[0m \u001b[0mcreate_graph\u001b[0m\u001b[0;34m,\u001b[0m \u001b[0minputs\u001b[0m\u001b[0;34m=\u001b[0m\u001b[0minputs\u001b[0m\u001b[0;34m)\u001b[0m\u001b[0;34m\u001b[0m\u001b[0;34m\u001b[0m\u001b[0m\n\u001b[0m\u001b[1;32m    364\u001b[0m \u001b[0;34m\u001b[0m\u001b[0m\n\u001b[1;32m    365\u001b[0m     \u001b[0;32mdef\u001b[0m \u001b[0mregister_hook\u001b[0m\u001b[0;34m(\u001b[0m\u001b[0mself\u001b[0m\u001b[0;34m,\u001b[0m \u001b[0mhook\u001b[0m\u001b[0;34m)\u001b[0m\u001b[0;34m:\u001b[0m\u001b[0;34m\u001b[0m\u001b[0;34m\u001b[0m\u001b[0m\n",
            "\u001b[0;32m/usr/local/lib/python3.7/dist-packages/torch/autograd/__init__.py\u001b[0m in \u001b[0;36mbackward\u001b[0;34m(tensors, grad_tensors, retain_graph, create_graph, grad_variables, inputs)\u001b[0m\n\u001b[1;32m    173\u001b[0m     Variable._execution_engine.run_backward(  # Calls into the C++ engine to run the backward pass\n\u001b[1;32m    174\u001b[0m         \u001b[0mtensors\u001b[0m\u001b[0;34m,\u001b[0m \u001b[0mgrad_tensors_\u001b[0m\u001b[0;34m,\u001b[0m \u001b[0mretain_graph\u001b[0m\u001b[0;34m,\u001b[0m \u001b[0mcreate_graph\u001b[0m\u001b[0;34m,\u001b[0m \u001b[0minputs\u001b[0m\u001b[0;34m,\u001b[0m\u001b[0;34m\u001b[0m\u001b[0;34m\u001b[0m\u001b[0m\n\u001b[0;32m--> 175\u001b[0;31m         allow_unreachable=True, accumulate_grad=True)  # Calls into the C++ engine to run the backward pass\n\u001b[0m\u001b[1;32m    176\u001b[0m \u001b[0;34m\u001b[0m\u001b[0m\n\u001b[1;32m    177\u001b[0m def grad(\n",
            "\u001b[0;31mKeyboardInterrupt\u001b[0m: "
          ]
        }
      ],
      "source": [
        "optimizer = torch.optim.Adam(model.parameters(), lr=LR)\n",
        "loss = nn.CrossEntropyLoss()\n",
        "\n",
        "is_lstm = False\n",
        "\n",
        "train_acc, train_loss = [], []\n",
        "val_acc, val_loss = [], []\n",
        "for i in range(20):\n",
        "  model.train()\n",
        "  loss_epoch = 0\n",
        "  cnt1 = 0\n",
        "  corr = 0\n",
        "  for x, l in train_dataloader:\n",
        "    optimizer.zero_grad()\n",
        "    x = x.float()\n",
        "    x = x.to(device)\n",
        "    l = l.to(device)\n",
        "    scores = model(x)\n",
        "    if is_lstm:\n",
        "      scores = torch.squeeze(scores, 0)\n",
        "    # print(scores, l)\n",
        "    loss_score = loss(scores, l)\n",
        "    loss_score.backward()\n",
        "    loss_epoch += loss_score.item()\n",
        "    cnt1 += 1\n",
        "    cls = torch.argmax(scores, dim=1)\n",
        "  # print(cls)\n",
        "    if cls == l:\n",
        "      corr += 1\n",
        "    # print(loss_score)\n",
        "    optimizer.step()\n",
        "  \n",
        "  print(\"Epoch:\", i+1)\n",
        "  print(\"Train Acc:\", corr / cnt1)\n",
        "  print(\"Train Loss:\", loss_epoch / cnt1)\n",
        "  train_acc.append(corr / cnt1)\n",
        "  train_loss.append(loss_epoch / cnt1)\n",
        "\n",
        "  model.eval()\n",
        "  loss_epoch = 0\n",
        "  cnt1 = 0\n",
        "  corr = 0\n",
        "  with torch.no_grad():\n",
        "    for x, l in val_dataloader:\n",
        "\n",
        "      x = x.float()\n",
        "      x = x.to(device)\n",
        "      l = l.to(device)\n",
        "      scores = model(x)\n",
        "      if is_lstm:\n",
        "        scores = torch.squeeze(scores, 0)\n",
        "\n",
        "      # print(scores, l)\n",
        "      loss_score = loss(scores, l)\n",
        "      \n",
        "      loss_epoch += loss_score.item()\n",
        "      cnt1 += 1\n",
        "      cls = torch.argmax(scores, dim=1)\n",
        "    # print(cls)\n",
        "      if cls == l:\n",
        "        corr += 1\n",
        "      # print(loss_score)\n",
        "    \n",
        "  print(\"Val Acc:\", corr / cnt1)\n",
        "  print(\"Val Loss:\", loss_epoch / cnt1)\n",
        "  print(\"---------------\")\n",
        "  val_acc.append(corr / cnt1)\n",
        "  val_loss.append(loss_epoch / cnt1)\n",
        "  "
      ]
    },
    {
      "cell_type": "code",
      "source": [
        "torch.save(model.state_dict(), \"gru_400.pt\")"
      ],
      "metadata": {
        "id": "sC4yGag91hR3"
      },
      "execution_count": 58,
      "outputs": []
    },
    {
      "cell_type": "code",
      "execution_count": 59,
      "metadata": {
        "id": "49vKqhQi0_Oy"
      },
      "outputs": [],
      "source": [
        "import matplotlib.pyplot as plt"
      ]
    },
    {
      "cell_type": "code",
      "execution_count": 60,
      "metadata": {
        "colab": {
          "base_uri": "https://localhost:8080/",
          "height": 298
        },
        "id": "Z9Xii-MF1Da8",
        "outputId": "1b367d6b-4ceb-4bcc-858f-58f3de31f6bf"
      },
      "outputs": [
        {
          "output_type": "execute_result",
          "data": {
            "text/plain": [
              "<matplotlib.legend.Legend at 0x7f7b545dd510>"
            ]
          },
          "metadata": {},
          "execution_count": 60
        },
        {
          "output_type": "display_data",
          "data": {
            "text/plain": [
              "<Figure size 432x288 with 1 Axes>"
            ],
            "image/png": "[encoded data removed]"
          },
          "metadata": {
            "needs_background": "light"
          }
        }
      ],
      "source": [
        "epochs = [i for i in range(10)]\n",
        "plt.title(\"Train Acc vs Val Acc\")\n",
        "plt.plot(epochs, train_acc[:10])\n",
        "plt.plot(epochs, val_acc[:10])\n",
        "plt.legend([\"train\", \"val\"])"
      ]
    },
    {
      "cell_type": "code",
      "execution_count": 61,
      "metadata": {
        "colab": {
          "base_uri": "https://localhost:8080/",
          "height": 298
        },
        "id": "fDNMRKC63haI",
        "outputId": "3212afd9-4078-4ba1-ec26-0bbe6e2f773d"
      },
      "outputs": [
        {
          "output_type": "execute_result",
          "data": {
            "text/plain": [
              "<matplotlib.legend.Legend at 0x7f7b54579dd0>"
            ]
          },
          "metadata": {},
          "execution_count": 61
        },
        {
          "output_type": "display_data",
          "data": {
            "text/plain": [
              "<Figure size 432x288 with 1 Axes>"
            ],
            "image/png": "[encoded data removed]"
          },
          "metadata": {
            "needs_background": "light"
          }
        }
      ],
      "source": [
        "epochs = [i for i in range(10)]\n",
        "plt.title(\"Train Loss vs Val Loss\")\n",
        "plt.plot(epochs, train_loss[:10])\n",
        "plt.plot(epochs, val_loss[:10])\n",
        "plt.legend([\"train\", \"val\"])"
      ]
    }
  ],
  "metadata": {
    "colab": {
      "collapsed_sections": [],
      "name": "training.ipynb",
      "provenance": [],
      "toc_visible": true
    },
    "kernelspec": {
      "display_name": "Python 3",
      "name": "python3"
    },
    "language_info": {
      "name": "python"
    },
    "accelerator": "GPU"
  },
  "nbformat": 4,
  "nbformat_minor": 0
}